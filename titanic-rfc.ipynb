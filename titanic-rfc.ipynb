{
 "cells": [
  {
   "attachments": {},
   "cell_type": "markdown",
   "id": "7dba20fc",
   "metadata": {
    "papermill": {
     "duration": 0.005889,
     "end_time": "2023-06-05T19:27:34.310438",
     "exception": false,
     "start_time": "2023-06-05T19:27:34.304549",
     "status": "completed"
    },
    "tags": []
   },
   "source": [
    "# **Titank Dataset**"
   ]
  },
  {
   "attachments": {},
   "cell_type": "markdown",
   "id": "869a55ac",
   "metadata": {
    "papermill": {
     "duration": 0.005721,
     "end_time": "2023-06-05T19:27:34.322303",
     "exception": false,
     "start_time": "2023-06-05T19:27:34.316582",
     "status": "completed"
    },
    "tags": []
   },
   "source": [
    "## **Task-1 **Pre Prosecution The Dataset****"
   ]
  },
  {
   "attachments": {},
   "cell_type": "markdown",
   "id": "f2f37b6d",
   "metadata": {
    "papermill": {
     "duration": 0.005851,
     "end_time": "2023-06-05T19:27:34.335412",
     "exception": false,
     "start_time": "2023-06-05T19:27:34.329561",
     "status": "completed"
    },
    "tags": []
   },
   "source": [
    "### First we will Import necessary libraries and Load the"
   ]
  },
  {
   "cell_type": "code",
   "execution_count": 2,
   "id": "93df7ceb",
   "metadata": {
    "execution": {
     "iopub.execute_input": "2023-06-05T19:27:34.350800Z",
     "iopub.status.busy": "2023-06-05T19:27:34.350401Z",
     "iopub.status.idle": "2023-06-05T19:27:36.779859Z",
     "shell.execute_reply": "2023-06-05T19:27:36.778601Z"
    },
    "papermill": {
     "duration": 2.441016,
     "end_time": "2023-06-05T19:27:36.782564",
     "exception": false,
     "start_time": "2023-06-05T19:27:34.341548",
     "status": "completed"
    },
    "tags": []
   },
   "outputs": [],
   "source": [
    "import pandas as pd\n",
    "import numpy as np\n",
    "import matplotlib.pyplot as plt\n",
    "import seaborn as sns\n",
    "from sklearn.ensemble import RandomForestClassifier\n",
    "from sklearn.model_selection import train_test_split\n",
    "from sklearn.metrics import accuracy_score"
   ]
  },
  {
   "cell_type": "code",
   "execution_count": null,
   "id": "042b3b1c",
   "metadata": {
    "execution": {
     "iopub.execute_input": "2023-06-05T19:27:36.796637Z",
     "iopub.status.busy": "2023-06-05T19:27:36.796311Z",
     "iopub.status.idle": "2023-06-05T19:27:36.856473Z",
     "shell.execute_reply": "2023-06-05T19:27:36.855342Z"
    },
    "papermill": {
     "duration": 0.069589,
     "end_time": "2023-06-05T19:27:36.858666",
     "exception": false,
     "start_time": "2023-06-05T19:27:36.789077",
     "status": "completed"
    },
    "tags": []
   },
   "outputs": [
    {
     "data": {
      "text/html": [
       "<div>\n",
       "<style scoped>\n",
       "    .dataframe tbody tr th:only-of-type {\n",
       "        vertical-align: middle;\n",
       "    }\n",
       "\n",
       "    .dataframe tbody tr th {\n",
       "        vertical-align: top;\n",
       "    }\n",
       "\n",
       "    .dataframe thead th {\n",
       "        text-align: right;\n",
       "    }\n",
       "</style>\n",
       "<table border=\"1\" class=\"dataframe\">\n",
       "  <thead>\n",
       "    <tr style=\"text-align: right;\">\n",
       "      <th></th>\n",
       "      <th>PassengerId</th>\n",
       "      <th>Survived</th>\n",
       "      <th>Pclass</th>\n",
       "      <th>Name</th>\n",
       "      <th>Sex</th>\n",
       "      <th>Age</th>\n",
       "      <th>SibSp</th>\n",
       "      <th>Parch</th>\n",
       "      <th>Ticket</th>\n",
       "      <th>Fare</th>\n",
       "      <th>Cabin</th>\n",
       "      <th>Embarked</th>\n",
       "    </tr>\n",
       "  </thead>\n",
       "  <tbody>\n",
       "    <tr>\n",
       "      <th>0</th>\n",
       "      <td>1</td>\n",
       "      <td>0</td>\n",
       "      <td>3</td>\n",
       "      <td>Braund, Mr. Owen Harris</td>\n",
       "      <td>male</td>\n",
       "      <td>22.0</td>\n",
       "      <td>1</td>\n",
       "      <td>0</td>\n",
       "      <td>A/5 21171</td>\n",
       "      <td>7.2500</td>\n",
       "      <td>NaN</td>\n",
       "      <td>S</td>\n",
       "    </tr>\n",
       "    <tr>\n",
       "      <th>1</th>\n",
       "      <td>2</td>\n",
       "      <td>1</td>\n",
       "      <td>1</td>\n",
       "      <td>Cumings, Mrs. John Bradley (Florence Briggs Th...</td>\n",
       "      <td>female</td>\n",
       "      <td>38.0</td>\n",
       "      <td>1</td>\n",
       "      <td>0</td>\n",
       "      <td>PC 17599</td>\n",
       "      <td>71.2833</td>\n",
       "      <td>C85</td>\n",
       "      <td>C</td>\n",
       "    </tr>\n",
       "    <tr>\n",
       "      <th>2</th>\n",
       "      <td>3</td>\n",
       "      <td>1</td>\n",
       "      <td>3</td>\n",
       "      <td>Heikkinen, Miss. Laina</td>\n",
       "      <td>female</td>\n",
       "      <td>26.0</td>\n",
       "      <td>0</td>\n",
       "      <td>0</td>\n",
       "      <td>STON/O2. 3101282</td>\n",
       "      <td>7.9250</td>\n",
       "      <td>NaN</td>\n",
       "      <td>S</td>\n",
       "    </tr>\n",
       "    <tr>\n",
       "      <th>3</th>\n",
       "      <td>4</td>\n",
       "      <td>1</td>\n",
       "      <td>1</td>\n",
       "      <td>Futrelle, Mrs. Jacques Heath (Lily May Peel)</td>\n",
       "      <td>female</td>\n",
       "      <td>35.0</td>\n",
       "      <td>1</td>\n",
       "      <td>0</td>\n",
       "      <td>113803</td>\n",
       "      <td>53.1000</td>\n",
       "      <td>C123</td>\n",
       "      <td>S</td>\n",
       "    </tr>\n",
       "    <tr>\n",
       "      <th>4</th>\n",
       "      <td>5</td>\n",
       "      <td>0</td>\n",
       "      <td>3</td>\n",
       "      <td>Allen, Mr. William Henry</td>\n",
       "      <td>male</td>\n",
       "      <td>35.0</td>\n",
       "      <td>0</td>\n",
       "      <td>0</td>\n",
       "      <td>373450</td>\n",
       "      <td>8.0500</td>\n",
       "      <td>NaN</td>\n",
       "      <td>S</td>\n",
       "    </tr>\n",
       "    <tr>\n",
       "      <th>5</th>\n",
       "      <td>6</td>\n",
       "      <td>0</td>\n",
       "      <td>3</td>\n",
       "      <td>Moran, Mr. James</td>\n",
       "      <td>male</td>\n",
       "      <td>NaN</td>\n",
       "      <td>0</td>\n",
       "      <td>0</td>\n",
       "      <td>330877</td>\n",
       "      <td>8.4583</td>\n",
       "      <td>NaN</td>\n",
       "      <td>Q</td>\n",
       "    </tr>\n",
       "    <tr>\n",
       "      <th>6</th>\n",
       "      <td>7</td>\n",
       "      <td>0</td>\n",
       "      <td>1</td>\n",
       "      <td>McCarthy, Mr. Timothy J</td>\n",
       "      <td>male</td>\n",
       "      <td>54.0</td>\n",
       "      <td>0</td>\n",
       "      <td>0</td>\n",
       "      <td>17463</td>\n",
       "      <td>51.8625</td>\n",
       "      <td>E46</td>\n",
       "      <td>S</td>\n",
       "    </tr>\n",
       "    <tr>\n",
       "      <th>7</th>\n",
       "      <td>8</td>\n",
       "      <td>0</td>\n",
       "      <td>3</td>\n",
       "      <td>Palsson, Master. Gosta Leonard</td>\n",
       "      <td>male</td>\n",
       "      <td>2.0</td>\n",
       "      <td>3</td>\n",
       "      <td>1</td>\n",
       "      <td>349909</td>\n",
       "      <td>21.0750</td>\n",
       "      <td>NaN</td>\n",
       "      <td>S</td>\n",
       "    </tr>\n",
       "    <tr>\n",
       "      <th>8</th>\n",
       "      <td>9</td>\n",
       "      <td>1</td>\n",
       "      <td>3</td>\n",
       "      <td>Johnson, Mrs. Oscar W (Elisabeth Vilhelmina Berg)</td>\n",
       "      <td>female</td>\n",
       "      <td>27.0</td>\n",
       "      <td>0</td>\n",
       "      <td>2</td>\n",
       "      <td>347742</td>\n",
       "      <td>11.1333</td>\n",
       "      <td>NaN</td>\n",
       "      <td>S</td>\n",
       "    </tr>\n",
       "    <tr>\n",
       "      <th>9</th>\n",
       "      <td>10</td>\n",
       "      <td>1</td>\n",
       "      <td>2</td>\n",
       "      <td>Nasser, Mrs. Nicholas (Adele Achem)</td>\n",
       "      <td>female</td>\n",
       "      <td>14.0</td>\n",
       "      <td>1</td>\n",
       "      <td>0</td>\n",
       "      <td>237736</td>\n",
       "      <td>30.0708</td>\n",
       "      <td>NaN</td>\n",
       "      <td>C</td>\n",
       "    </tr>\n",
       "  </tbody>\n",
       "</table>\n",
       "</div>"
      ],
      "text/plain": [
       "   PassengerId  Survived  Pclass  \\\n",
       "0            1         0       3   \n",
       "1            2         1       1   \n",
       "2            3         1       3   \n",
       "3            4         1       1   \n",
       "4            5         0       3   \n",
       "5            6         0       3   \n",
       "6            7         0       1   \n",
       "7            8         0       3   \n",
       "8            9         1       3   \n",
       "9           10         1       2   \n",
       "\n",
       "                                                Name     Sex   Age  SibSp  \\\n",
       "0                            Braund, Mr. Owen Harris    male  22.0      1   \n",
       "1  Cumings, Mrs. John Bradley (Florence Briggs Th...  female  38.0      1   \n",
       "2                             Heikkinen, Miss. Laina  female  26.0      0   \n",
       "3       Futrelle, Mrs. Jacques Heath (Lily May Peel)  female  35.0      1   \n",
       "4                           Allen, Mr. William Henry    male  35.0      0   \n",
       "5                                   Moran, Mr. James    male   NaN      0   \n",
       "6                            McCarthy, Mr. Timothy J    male  54.0      0   \n",
       "7                     Palsson, Master. Gosta Leonard    male   2.0      3   \n",
       "8  Johnson, Mrs. Oscar W (Elisabeth Vilhelmina Berg)  female  27.0      0   \n",
       "9                Nasser, Mrs. Nicholas (Adele Achem)  female  14.0      1   \n",
       "\n",
       "   Parch            Ticket     Fare Cabin Embarked  \n",
       "0      0         A/5 21171   7.2500   NaN        S  \n",
       "1      0          PC 17599  71.2833   C85        C  \n",
       "2      0  STON/O2. 3101282   7.9250   NaN        S  \n",
       "3      0            113803  53.1000  C123        S  \n",
       "4      0            373450   8.0500   NaN        S  \n",
       "5      0            330877   8.4583   NaN        Q  \n",
       "6      0             17463  51.8625   E46        S  \n",
       "7      1            349909  21.0750   NaN        S  \n",
       "8      2            347742  11.1333   NaN        S  \n",
       "9      0            237736  30.0708   NaN        C  "
      ]
     },
     "execution_count": 3,
     "metadata": {},
     "output_type": "execute_result"
    }
   ],
   "source": [
    "# Load the Titanic dataset from Seaborn\n",
    "titanic_df = pd.read_csv(\"titanic.csv\")\n",
    "\n",
    "# Display the first 10 rows of the dataset\n",
    "titanic_df.head(10)"
   ]
  },
  {
   "cell_type": "code",
   "execution_count": 4,
   "id": "d2c25872",
   "metadata": {
    "execution": {
     "iopub.execute_input": "2023-06-05T19:27:36.875406Z",
     "iopub.status.busy": "2023-06-05T19:27:36.875006Z",
     "iopub.status.idle": "2023-06-05T19:27:36.880840Z",
     "shell.execute_reply": "2023-06-05T19:27:36.879762Z"
    },
    "papermill": {
     "duration": 0.016751,
     "end_time": "2023-06-05T19:27:36.883188",
     "exception": false,
     "start_time": "2023-06-05T19:27:36.866437",
     "status": "completed"
    },
    "tags": []
   },
   "outputs": [
    {
     "name": "stdout",
     "output_type": "stream",
     "text": [
      "Number of rows: 891\n",
      "Number of columns: 12\n"
     ]
    }
   ],
   "source": [
    "print(\"Number of rows:\", titanic_df.shape[0])\n",
    "print(\"Number of columns:\", titanic_df.shape[1])"
   ]
  },
  {
   "cell_type": "code",
   "execution_count": 5,
   "id": "765345bb",
   "metadata": {
    "execution": {
     "iopub.execute_input": "2023-06-05T19:27:36.899538Z",
     "iopub.status.busy": "2023-06-05T19:27:36.899172Z",
     "iopub.status.idle": "2023-06-05T19:27:36.905032Z",
     "shell.execute_reply": "2023-06-05T19:27:36.903789Z"
    },
    "papermill": {
     "duration": 0.016376,
     "end_time": "2023-06-05T19:27:36.907027",
     "exception": false,
     "start_time": "2023-06-05T19:27:36.890651",
     "status": "completed"
    },
    "tags": []
   },
   "outputs": [
    {
     "name": "stdout",
     "output_type": "stream",
     "text": [
      "Columns: ['PassengerId', 'Survived', 'Pclass', 'Name', 'Sex', 'Age', 'SibSp', 'Parch', 'Ticket', 'Fare', 'Cabin', 'Embarked']\n"
     ]
    }
   ],
   "source": [
    "print(\"Columns:\", titanic_df.columns.tolist())"
   ]
  },
  {
   "cell_type": "code",
   "execution_count": 6,
   "id": "2d9f891d",
   "metadata": {
    "execution": {
     "iopub.execute_input": "2023-06-05T19:27:36.922548Z",
     "iopub.status.busy": "2023-06-05T19:27:36.922083Z",
     "iopub.status.idle": "2023-06-05T19:27:36.928047Z",
     "shell.execute_reply": "2023-06-05T19:27:36.926970Z"
    },
    "papermill": {
     "duration": 0.01598,
     "end_time": "2023-06-05T19:27:36.929995",
     "exception": false,
     "start_time": "2023-06-05T19:27:36.914015",
     "status": "completed"
    },
    "tags": []
   },
   "outputs": [
    {
     "name": "stdout",
     "output_type": "stream",
     "text": [
      "PassengerId      int64\n",
      "Survived         int64\n",
      "Pclass           int64\n",
      "Name            object\n",
      "Sex             object\n",
      "Age            float64\n",
      "SibSp            int64\n",
      "Parch            int64\n",
      "Ticket          object\n",
      "Fare           float64\n",
      "Cabin           object\n",
      "Embarked        object\n",
      "dtype: object\n"
     ]
    }
   ],
   "source": [
    "print(titanic_df.dtypes)"
   ]
  },
  {
   "cell_type": "code",
   "execution_count": 7,
   "id": "7e468a66",
   "metadata": {
    "execution": {
     "iopub.execute_input": "2023-06-05T19:27:36.945579Z",
     "iopub.status.busy": "2023-06-05T19:27:36.944651Z",
     "iopub.status.idle": "2023-06-05T19:27:36.955845Z",
     "shell.execute_reply": "2023-06-05T19:27:36.954951Z"
    },
    "papermill": {
     "duration": 0.020993,
     "end_time": "2023-06-05T19:27:36.957746",
     "exception": false,
     "start_time": "2023-06-05T19:27:36.936753",
     "status": "completed"
    },
    "tags": []
   },
   "outputs": [
    {
     "data": {
      "text/plain": [
       "PassengerId      0\n",
       "Survived         0\n",
       "Pclass           0\n",
       "Name             0\n",
       "Sex              0\n",
       "Age            177\n",
       "SibSp            0\n",
       "Parch            0\n",
       "Ticket           0\n",
       "Fare             0\n",
       "Cabin          687\n",
       "Embarked         2\n",
       "dtype: int64"
      ]
     },
     "execution_count": 7,
     "metadata": {},
     "output_type": "execute_result"
    }
   ],
   "source": [
    "count = titanic_df.isnull().sum()\n",
    "count"
   ]
  },
  {
   "attachments": {},
   "cell_type": "markdown",
   "id": "e8565f64",
   "metadata": {
    "papermill": {
     "duration": 0.0065,
     "end_time": "2023-06-05T19:27:36.971134",
     "exception": false,
     "start_time": "2023-06-05T19:27:36.964634",
     "status": "completed"
    },
    "tags": []
   },
   "source": [
    "### Handle missing values"
   ]
  },
  {
   "cell_type": "code",
   "execution_count": 8,
   "id": "e994733f",
   "metadata": {
    "execution": {
     "iopub.execute_input": "2023-06-05T19:27:36.986007Z",
     "iopub.status.busy": "2023-06-05T19:27:36.985633Z",
     "iopub.status.idle": "2023-06-05T19:27:36.997689Z",
     "shell.execute_reply": "2023-06-05T19:27:36.996601Z"
    },
    "papermill": {
     "duration": 0.02218,
     "end_time": "2023-06-05T19:27:36.999933",
     "exception": false,
     "start_time": "2023-06-05T19:27:36.977753",
     "status": "completed"
    },
    "tags": []
   },
   "outputs": [],
   "source": [
    "titanic_df['Age'].fillna(titanic_df['Age'].median(), inplace=True)\n",
    "titanic_df['Embarked'].fillna(titanic_df['Embarked'].mode()[0], inplace=True)\n"
   ]
  },
  {
   "attachments": {},
   "cell_type": "markdown",
   "id": "5f6e06e0",
   "metadata": {
    "papermill": {
     "duration": 0.006534,
     "end_time": "2023-06-05T19:27:37.013514",
     "exception": false,
     "start_time": "2023-06-05T19:27:37.006980",
     "status": "completed"
    },
    "tags": []
   },
   "source": [
    "### Drop irrelevant columns"
   ]
  },
  {
   "cell_type": "code",
   "execution_count": 9,
   "id": "96313ad7",
   "metadata": {
    "execution": {
     "iopub.execute_input": "2023-06-05T19:27:37.028768Z",
     "iopub.status.busy": "2023-06-05T19:27:37.028413Z",
     "iopub.status.idle": "2023-06-05T19:27:37.040733Z",
     "shell.execute_reply": "2023-06-05T19:27:37.038928Z"
    },
    "papermill": {
     "duration": 0.022751,
     "end_time": "2023-06-05T19:27:37.043012",
     "exception": false,
     "start_time": "2023-06-05T19:27:37.020261",
     "status": "completed"
    },
    "tags": []
   },
   "outputs": [],
   "source": [
    "columns_to_drop = ['PassengerId', 'Name', 'Ticket', 'Cabin']\n",
    "titanic_df.drop(columns_to_drop, axis=1, inplace=True)"
   ]
  },
  {
   "cell_type": "code",
   "execution_count": 10,
   "id": "25c4d794",
   "metadata": {
    "execution": {
     "iopub.execute_input": "2023-06-05T19:27:37.060932Z",
     "iopub.status.busy": "2023-06-05T19:27:37.060507Z",
     "iopub.status.idle": "2023-06-05T19:27:37.078515Z",
     "shell.execute_reply": "2023-06-05T19:27:37.077198Z"
    },
    "papermill": {
     "duration": 0.029171,
     "end_time": "2023-06-05T19:27:37.080544",
     "exception": false,
     "start_time": "2023-06-05T19:27:37.051373",
     "status": "completed"
    },
    "tags": []
   },
   "outputs": [
    {
     "data": {
      "text/html": [
       "<div>\n",
       "<style scoped>\n",
       "    .dataframe tbody tr th:only-of-type {\n",
       "        vertical-align: middle;\n",
       "    }\n",
       "\n",
       "    .dataframe tbody tr th {\n",
       "        vertical-align: top;\n",
       "    }\n",
       "\n",
       "    .dataframe thead th {\n",
       "        text-align: right;\n",
       "    }\n",
       "</style>\n",
       "<table border=\"1\" class=\"dataframe\">\n",
       "  <thead>\n",
       "    <tr style=\"text-align: right;\">\n",
       "      <th></th>\n",
       "      <th>Survived</th>\n",
       "      <th>Pclass</th>\n",
       "      <th>Sex</th>\n",
       "      <th>Age</th>\n",
       "      <th>SibSp</th>\n",
       "      <th>Parch</th>\n",
       "      <th>Fare</th>\n",
       "      <th>Embarked</th>\n",
       "    </tr>\n",
       "  </thead>\n",
       "  <tbody>\n",
       "    <tr>\n",
       "      <th>0</th>\n",
       "      <td>0</td>\n",
       "      <td>3</td>\n",
       "      <td>male</td>\n",
       "      <td>22.0</td>\n",
       "      <td>1</td>\n",
       "      <td>0</td>\n",
       "      <td>7.2500</td>\n",
       "      <td>S</td>\n",
       "    </tr>\n",
       "    <tr>\n",
       "      <th>1</th>\n",
       "      <td>1</td>\n",
       "      <td>1</td>\n",
       "      <td>female</td>\n",
       "      <td>38.0</td>\n",
       "      <td>1</td>\n",
       "      <td>0</td>\n",
       "      <td>71.2833</td>\n",
       "      <td>C</td>\n",
       "    </tr>\n",
       "    <tr>\n",
       "      <th>2</th>\n",
       "      <td>1</td>\n",
       "      <td>3</td>\n",
       "      <td>female</td>\n",
       "      <td>26.0</td>\n",
       "      <td>0</td>\n",
       "      <td>0</td>\n",
       "      <td>7.9250</td>\n",
       "      <td>S</td>\n",
       "    </tr>\n",
       "    <tr>\n",
       "      <th>3</th>\n",
       "      <td>1</td>\n",
       "      <td>1</td>\n",
       "      <td>female</td>\n",
       "      <td>35.0</td>\n",
       "      <td>1</td>\n",
       "      <td>0</td>\n",
       "      <td>53.1000</td>\n",
       "      <td>S</td>\n",
       "    </tr>\n",
       "    <tr>\n",
       "      <th>4</th>\n",
       "      <td>0</td>\n",
       "      <td>3</td>\n",
       "      <td>male</td>\n",
       "      <td>35.0</td>\n",
       "      <td>0</td>\n",
       "      <td>0</td>\n",
       "      <td>8.0500</td>\n",
       "      <td>S</td>\n",
       "    </tr>\n",
       "    <tr>\n",
       "      <th>...</th>\n",
       "      <td>...</td>\n",
       "      <td>...</td>\n",
       "      <td>...</td>\n",
       "      <td>...</td>\n",
       "      <td>...</td>\n",
       "      <td>...</td>\n",
       "      <td>...</td>\n",
       "      <td>...</td>\n",
       "    </tr>\n",
       "    <tr>\n",
       "      <th>886</th>\n",
       "      <td>0</td>\n",
       "      <td>2</td>\n",
       "      <td>male</td>\n",
       "      <td>27.0</td>\n",
       "      <td>0</td>\n",
       "      <td>0</td>\n",
       "      <td>13.0000</td>\n",
       "      <td>S</td>\n",
       "    </tr>\n",
       "    <tr>\n",
       "      <th>887</th>\n",
       "      <td>1</td>\n",
       "      <td>1</td>\n",
       "      <td>female</td>\n",
       "      <td>19.0</td>\n",
       "      <td>0</td>\n",
       "      <td>0</td>\n",
       "      <td>30.0000</td>\n",
       "      <td>S</td>\n",
       "    </tr>\n",
       "    <tr>\n",
       "      <th>888</th>\n",
       "      <td>0</td>\n",
       "      <td>3</td>\n",
       "      <td>female</td>\n",
       "      <td>28.0</td>\n",
       "      <td>1</td>\n",
       "      <td>2</td>\n",
       "      <td>23.4500</td>\n",
       "      <td>S</td>\n",
       "    </tr>\n",
       "    <tr>\n",
       "      <th>889</th>\n",
       "      <td>1</td>\n",
       "      <td>1</td>\n",
       "      <td>male</td>\n",
       "      <td>26.0</td>\n",
       "      <td>0</td>\n",
       "      <td>0</td>\n",
       "      <td>30.0000</td>\n",
       "      <td>C</td>\n",
       "    </tr>\n",
       "    <tr>\n",
       "      <th>890</th>\n",
       "      <td>0</td>\n",
       "      <td>3</td>\n",
       "      <td>male</td>\n",
       "      <td>32.0</td>\n",
       "      <td>0</td>\n",
       "      <td>0</td>\n",
       "      <td>7.7500</td>\n",
       "      <td>Q</td>\n",
       "    </tr>\n",
       "  </tbody>\n",
       "</table>\n",
       "<p>891 rows × 8 columns</p>\n",
       "</div>"
      ],
      "text/plain": [
       "     Survived  Pclass     Sex   Age  SibSp  Parch     Fare Embarked\n",
       "0           0       3    male  22.0      1      0   7.2500        S\n",
       "1           1       1  female  38.0      1      0  71.2833        C\n",
       "2           1       3  female  26.0      0      0   7.9250        S\n",
       "3           1       1  female  35.0      1      0  53.1000        S\n",
       "4           0       3    male  35.0      0      0   8.0500        S\n",
       "..        ...     ...     ...   ...    ...    ...      ...      ...\n",
       "886         0       2    male  27.0      0      0  13.0000        S\n",
       "887         1       1  female  19.0      0      0  30.0000        S\n",
       "888         0       3  female  28.0      1      2  23.4500        S\n",
       "889         1       1    male  26.0      0      0  30.0000        C\n",
       "890         0       3    male  32.0      0      0   7.7500        Q\n",
       "\n",
       "[891 rows x 8 columns]"
      ]
     },
     "execution_count": 10,
     "metadata": {},
     "output_type": "execute_result"
    }
   ],
   "source": [
    "titanic_df"
   ]
  },
  {
   "attachments": {},
   "cell_type": "markdown",
   "id": "7937e1df",
   "metadata": {
    "papermill": {
     "duration": 0.007132,
     "end_time": "2023-06-05T19:27:37.095722",
     "exception": false,
     "start_time": "2023-06-05T19:27:37.088590",
     "status": "completed"
    },
    "tags": []
   },
   "source": [
    "### Convert categorical variables to numerical"
   ]
  },
  {
   "cell_type": "code",
   "execution_count": 11,
   "id": "8a54697f",
   "metadata": {
    "execution": {
     "iopub.execute_input": "2023-06-05T19:27:37.111971Z",
     "iopub.status.busy": "2023-06-05T19:27:37.111551Z",
     "iopub.status.idle": "2023-06-05T19:27:37.136860Z",
     "shell.execute_reply": "2023-06-05T19:27:37.135556Z"
    },
    "papermill": {
     "duration": 0.037924,
     "end_time": "2023-06-05T19:27:37.140840",
     "exception": false,
     "start_time": "2023-06-05T19:27:37.102916",
     "status": "completed"
    },
    "tags": []
   },
   "outputs": [
    {
     "data": {
      "text/html": [
       "<div>\n",
       "<style scoped>\n",
       "    .dataframe tbody tr th:only-of-type {\n",
       "        vertical-align: middle;\n",
       "    }\n",
       "\n",
       "    .dataframe tbody tr th {\n",
       "        vertical-align: top;\n",
       "    }\n",
       "\n",
       "    .dataframe thead th {\n",
       "        text-align: right;\n",
       "    }\n",
       "</style>\n",
       "<table border=\"1\" class=\"dataframe\">\n",
       "  <thead>\n",
       "    <tr style=\"text-align: right;\">\n",
       "      <th></th>\n",
       "      <th>Survived</th>\n",
       "      <th>Pclass</th>\n",
       "      <th>Sex</th>\n",
       "      <th>Age</th>\n",
       "      <th>SibSp</th>\n",
       "      <th>Parch</th>\n",
       "      <th>Fare</th>\n",
       "      <th>Embarked</th>\n",
       "    </tr>\n",
       "  </thead>\n",
       "  <tbody>\n",
       "    <tr>\n",
       "      <th>0</th>\n",
       "      <td>0</td>\n",
       "      <td>3</td>\n",
       "      <td>1</td>\n",
       "      <td>22.0</td>\n",
       "      <td>1</td>\n",
       "      <td>0</td>\n",
       "      <td>7.2500</td>\n",
       "      <td>0</td>\n",
       "    </tr>\n",
       "    <tr>\n",
       "      <th>1</th>\n",
       "      <td>1</td>\n",
       "      <td>1</td>\n",
       "      <td>0</td>\n",
       "      <td>38.0</td>\n",
       "      <td>1</td>\n",
       "      <td>0</td>\n",
       "      <td>71.2833</td>\n",
       "      <td>1</td>\n",
       "    </tr>\n",
       "    <tr>\n",
       "      <th>2</th>\n",
       "      <td>1</td>\n",
       "      <td>3</td>\n",
       "      <td>0</td>\n",
       "      <td>26.0</td>\n",
       "      <td>0</td>\n",
       "      <td>0</td>\n",
       "      <td>7.9250</td>\n",
       "      <td>0</td>\n",
       "    </tr>\n",
       "    <tr>\n",
       "      <th>3</th>\n",
       "      <td>1</td>\n",
       "      <td>1</td>\n",
       "      <td>0</td>\n",
       "      <td>35.0</td>\n",
       "      <td>1</td>\n",
       "      <td>0</td>\n",
       "      <td>53.1000</td>\n",
       "      <td>0</td>\n",
       "    </tr>\n",
       "    <tr>\n",
       "      <th>4</th>\n",
       "      <td>0</td>\n",
       "      <td>3</td>\n",
       "      <td>1</td>\n",
       "      <td>35.0</td>\n",
       "      <td>0</td>\n",
       "      <td>0</td>\n",
       "      <td>8.0500</td>\n",
       "      <td>0</td>\n",
       "    </tr>\n",
       "    <tr>\n",
       "      <th>...</th>\n",
       "      <td>...</td>\n",
       "      <td>...</td>\n",
       "      <td>...</td>\n",
       "      <td>...</td>\n",
       "      <td>...</td>\n",
       "      <td>...</td>\n",
       "      <td>...</td>\n",
       "      <td>...</td>\n",
       "    </tr>\n",
       "    <tr>\n",
       "      <th>886</th>\n",
       "      <td>0</td>\n",
       "      <td>2</td>\n",
       "      <td>1</td>\n",
       "      <td>27.0</td>\n",
       "      <td>0</td>\n",
       "      <td>0</td>\n",
       "      <td>13.0000</td>\n",
       "      <td>0</td>\n",
       "    </tr>\n",
       "    <tr>\n",
       "      <th>887</th>\n",
       "      <td>1</td>\n",
       "      <td>1</td>\n",
       "      <td>0</td>\n",
       "      <td>19.0</td>\n",
       "      <td>0</td>\n",
       "      <td>0</td>\n",
       "      <td>30.0000</td>\n",
       "      <td>0</td>\n",
       "    </tr>\n",
       "    <tr>\n",
       "      <th>888</th>\n",
       "      <td>0</td>\n",
       "      <td>3</td>\n",
       "      <td>0</td>\n",
       "      <td>28.0</td>\n",
       "      <td>1</td>\n",
       "      <td>2</td>\n",
       "      <td>23.4500</td>\n",
       "      <td>0</td>\n",
       "    </tr>\n",
       "    <tr>\n",
       "      <th>889</th>\n",
       "      <td>1</td>\n",
       "      <td>1</td>\n",
       "      <td>1</td>\n",
       "      <td>26.0</td>\n",
       "      <td>0</td>\n",
       "      <td>0</td>\n",
       "      <td>30.0000</td>\n",
       "      <td>1</td>\n",
       "    </tr>\n",
       "    <tr>\n",
       "      <th>890</th>\n",
       "      <td>0</td>\n",
       "      <td>3</td>\n",
       "      <td>1</td>\n",
       "      <td>32.0</td>\n",
       "      <td>0</td>\n",
       "      <td>0</td>\n",
       "      <td>7.7500</td>\n",
       "      <td>2</td>\n",
       "    </tr>\n",
       "  </tbody>\n",
       "</table>\n",
       "<p>891 rows × 8 columns</p>\n",
       "</div>"
      ],
      "text/plain": [
       "     Survived  Pclass  Sex   Age  SibSp  Parch     Fare  Embarked\n",
       "0           0       3    1  22.0      1      0   7.2500         0\n",
       "1           1       1    0  38.0      1      0  71.2833         1\n",
       "2           1       3    0  26.0      0      0   7.9250         0\n",
       "3           1       1    0  35.0      1      0  53.1000         0\n",
       "4           0       3    1  35.0      0      0   8.0500         0\n",
       "..        ...     ...  ...   ...    ...    ...      ...       ...\n",
       "886         0       2    1  27.0      0      0  13.0000         0\n",
       "887         1       1    0  19.0      0      0  30.0000         0\n",
       "888         0       3    0  28.0      1      2  23.4500         0\n",
       "889         1       1    1  26.0      0      0  30.0000         1\n",
       "890         0       3    1  32.0      0      0   7.7500         2\n",
       "\n",
       "[891 rows x 8 columns]"
      ]
     },
     "execution_count": 11,
     "metadata": {},
     "output_type": "execute_result"
    }
   ],
   "source": [
    "titanic_df['Sex'] = titanic_df['Sex'].map({'female': 0, 'male': 1}).astype(int)\n",
    "embarked_mapping = {'S': 0, 'C': 1, 'Q': 2}\n",
    "titanic_df['Embarked'] = titanic_df['Embarked'].map(embarked_mapping).astype(int)\n",
    "titanic_df"
   ]
  },
  {
   "cell_type": "code",
   "execution_count": 12,
   "id": "86b40c77",
   "metadata": {
    "execution": {
     "iopub.execute_input": "2023-06-05T19:27:37.166259Z",
     "iopub.status.busy": "2023-06-05T19:27:37.165652Z",
     "iopub.status.idle": "2023-06-05T19:27:37.192805Z",
     "shell.execute_reply": "2023-06-05T19:27:37.191283Z"
    },
    "papermill": {
     "duration": 0.04252,
     "end_time": "2023-06-05T19:27:37.195126",
     "exception": false,
     "start_time": "2023-06-05T19:27:37.152606",
     "status": "completed"
    },
    "tags": []
   },
   "outputs": [
    {
     "data": {
      "text/html": [
       "<div>\n",
       "<style scoped>\n",
       "    .dataframe tbody tr th:only-of-type {\n",
       "        vertical-align: middle;\n",
       "    }\n",
       "\n",
       "    .dataframe tbody tr th {\n",
       "        vertical-align: top;\n",
       "    }\n",
       "\n",
       "    .dataframe thead th {\n",
       "        text-align: right;\n",
       "    }\n",
       "</style>\n",
       "<table border=\"1\" class=\"dataframe\">\n",
       "  <thead>\n",
       "    <tr style=\"text-align: right;\">\n",
       "      <th></th>\n",
       "      <th>Survived</th>\n",
       "      <th>Pclass</th>\n",
       "      <th>Sex</th>\n",
       "      <th>Age</th>\n",
       "      <th>SibSp</th>\n",
       "      <th>Parch</th>\n",
       "      <th>Fare</th>\n",
       "      <th>Embarked</th>\n",
       "      <th>FamilySize</th>\n",
       "    </tr>\n",
       "  </thead>\n",
       "  <tbody>\n",
       "    <tr>\n",
       "      <th>0</th>\n",
       "      <td>0</td>\n",
       "      <td>3</td>\n",
       "      <td>1</td>\n",
       "      <td>22.0</td>\n",
       "      <td>1</td>\n",
       "      <td>0</td>\n",
       "      <td>7.2500</td>\n",
       "      <td>0</td>\n",
       "      <td>2</td>\n",
       "    </tr>\n",
       "    <tr>\n",
       "      <th>1</th>\n",
       "      <td>1</td>\n",
       "      <td>1</td>\n",
       "      <td>0</td>\n",
       "      <td>38.0</td>\n",
       "      <td>1</td>\n",
       "      <td>0</td>\n",
       "      <td>71.2833</td>\n",
       "      <td>1</td>\n",
       "      <td>2</td>\n",
       "    </tr>\n",
       "    <tr>\n",
       "      <th>2</th>\n",
       "      <td>1</td>\n",
       "      <td>3</td>\n",
       "      <td>0</td>\n",
       "      <td>26.0</td>\n",
       "      <td>0</td>\n",
       "      <td>0</td>\n",
       "      <td>7.9250</td>\n",
       "      <td>0</td>\n",
       "      <td>1</td>\n",
       "    </tr>\n",
       "    <tr>\n",
       "      <th>3</th>\n",
       "      <td>1</td>\n",
       "      <td>1</td>\n",
       "      <td>0</td>\n",
       "      <td>35.0</td>\n",
       "      <td>1</td>\n",
       "      <td>0</td>\n",
       "      <td>53.1000</td>\n",
       "      <td>0</td>\n",
       "      <td>2</td>\n",
       "    </tr>\n",
       "    <tr>\n",
       "      <th>4</th>\n",
       "      <td>0</td>\n",
       "      <td>3</td>\n",
       "      <td>1</td>\n",
       "      <td>35.0</td>\n",
       "      <td>0</td>\n",
       "      <td>0</td>\n",
       "      <td>8.0500</td>\n",
       "      <td>0</td>\n",
       "      <td>1</td>\n",
       "    </tr>\n",
       "    <tr>\n",
       "      <th>...</th>\n",
       "      <td>...</td>\n",
       "      <td>...</td>\n",
       "      <td>...</td>\n",
       "      <td>...</td>\n",
       "      <td>...</td>\n",
       "      <td>...</td>\n",
       "      <td>...</td>\n",
       "      <td>...</td>\n",
       "      <td>...</td>\n",
       "    </tr>\n",
       "    <tr>\n",
       "      <th>886</th>\n",
       "      <td>0</td>\n",
       "      <td>2</td>\n",
       "      <td>1</td>\n",
       "      <td>27.0</td>\n",
       "      <td>0</td>\n",
       "      <td>0</td>\n",
       "      <td>13.0000</td>\n",
       "      <td>0</td>\n",
       "      <td>1</td>\n",
       "    </tr>\n",
       "    <tr>\n",
       "      <th>887</th>\n",
       "      <td>1</td>\n",
       "      <td>1</td>\n",
       "      <td>0</td>\n",
       "      <td>19.0</td>\n",
       "      <td>0</td>\n",
       "      <td>0</td>\n",
       "      <td>30.0000</td>\n",
       "      <td>0</td>\n",
       "      <td>1</td>\n",
       "    </tr>\n",
       "    <tr>\n",
       "      <th>888</th>\n",
       "      <td>0</td>\n",
       "      <td>3</td>\n",
       "      <td>0</td>\n",
       "      <td>28.0</td>\n",
       "      <td>1</td>\n",
       "      <td>2</td>\n",
       "      <td>23.4500</td>\n",
       "      <td>0</td>\n",
       "      <td>4</td>\n",
       "    </tr>\n",
       "    <tr>\n",
       "      <th>889</th>\n",
       "      <td>1</td>\n",
       "      <td>1</td>\n",
       "      <td>1</td>\n",
       "      <td>26.0</td>\n",
       "      <td>0</td>\n",
       "      <td>0</td>\n",
       "      <td>30.0000</td>\n",
       "      <td>1</td>\n",
       "      <td>1</td>\n",
       "    </tr>\n",
       "    <tr>\n",
       "      <th>890</th>\n",
       "      <td>0</td>\n",
       "      <td>3</td>\n",
       "      <td>1</td>\n",
       "      <td>32.0</td>\n",
       "      <td>0</td>\n",
       "      <td>0</td>\n",
       "      <td>7.7500</td>\n",
       "      <td>2</td>\n",
       "      <td>1</td>\n",
       "    </tr>\n",
       "  </tbody>\n",
       "</table>\n",
       "<p>891 rows × 9 columns</p>\n",
       "</div>"
      ],
      "text/plain": [
       "     Survived  Pclass  Sex   Age  SibSp  Parch     Fare  Embarked  FamilySize\n",
       "0           0       3    1  22.0      1      0   7.2500         0           2\n",
       "1           1       1    0  38.0      1      0  71.2833         1           2\n",
       "2           1       3    0  26.0      0      0   7.9250         0           1\n",
       "3           1       1    0  35.0      1      0  53.1000         0           2\n",
       "4           0       3    1  35.0      0      0   8.0500         0           1\n",
       "..        ...     ...  ...   ...    ...    ...      ...       ...         ...\n",
       "886         0       2    1  27.0      0      0  13.0000         0           1\n",
       "887         1       1    0  19.0      0      0  30.0000         0           1\n",
       "888         0       3    0  28.0      1      2  23.4500         0           4\n",
       "889         1       1    1  26.0      0      0  30.0000         1           1\n",
       "890         0       3    1  32.0      0      0   7.7500         2           1\n",
       "\n",
       "[891 rows x 9 columns]"
      ]
     },
     "execution_count": 12,
     "metadata": {},
     "output_type": "execute_result"
    }
   ],
   "source": [
    "# Create a new feature 'FamilySize'\n",
    "titanic_df['FamilySize'] = titanic_df['SibSp'] + titanic_df['Parch'] + 1\n",
    "titanic_df"
   ]
  },
  {
   "cell_type": "code",
   "execution_count": 13,
   "id": "fc1fa115",
   "metadata": {
    "execution": {
     "iopub.execute_input": "2023-06-05T19:27:37.217590Z",
     "iopub.status.busy": "2023-06-05T19:27:37.217117Z",
     "iopub.status.idle": "2023-06-05T19:27:37.226960Z",
     "shell.execute_reply": "2023-06-05T19:27:37.225071Z"
    },
    "papermill": {
     "duration": 0.025907,
     "end_time": "2023-06-05T19:27:37.230267",
     "exception": false,
     "start_time": "2023-06-05T19:27:37.204360",
     "status": "completed"
    },
    "tags": []
   },
   "outputs": [],
   "source": [
    "# Drop unnecessary columns\n",
    "titanic_df.drop(['SibSp', 'Parch'], axis=1, inplace=True)\n"
   ]
  },
  {
   "attachments": {},
   "cell_type": "markdown",
   "id": "bb4c94eb",
   "metadata": {
    "papermill": {
     "duration": 0.008966,
     "end_time": "2023-06-05T19:27:37.249274",
     "exception": false,
     "start_time": "2023-06-05T19:27:37.240308",
     "status": "completed"
    },
    "tags": []
   },
   "source": [
    "### Normalize numerical features using the Z-score formula"
   ]
  },
  {
   "cell_type": "code",
   "execution_count": 14,
   "id": "bb703990",
   "metadata": {
    "execution": {
     "iopub.execute_input": "2023-06-05T19:27:37.267132Z",
     "iopub.status.busy": "2023-06-05T19:27:37.266726Z",
     "iopub.status.idle": "2023-06-05T19:27:37.286445Z",
     "shell.execute_reply": "2023-06-05T19:27:37.284961Z"
    },
    "papermill": {
     "duration": 0.03315,
     "end_time": "2023-06-05T19:27:37.290586",
     "exception": false,
     "start_time": "2023-06-05T19:27:37.257436",
     "status": "completed"
    },
    "tags": []
   },
   "outputs": [
    {
     "data": {
      "text/html": [
       "<div>\n",
       "<style scoped>\n",
       "    .dataframe tbody tr th:only-of-type {\n",
       "        vertical-align: middle;\n",
       "    }\n",
       "\n",
       "    .dataframe tbody tr th {\n",
       "        vertical-align: top;\n",
       "    }\n",
       "\n",
       "    .dataframe thead th {\n",
       "        text-align: right;\n",
       "    }\n",
       "</style>\n",
       "<table border=\"1\" class=\"dataframe\">\n",
       "  <thead>\n",
       "    <tr style=\"text-align: right;\">\n",
       "      <th></th>\n",
       "      <th>Survived</th>\n",
       "      <th>Pclass</th>\n",
       "      <th>Sex</th>\n",
       "      <th>Age</th>\n",
       "      <th>Fare</th>\n",
       "      <th>Embarked</th>\n",
       "      <th>FamilySize</th>\n",
       "    </tr>\n",
       "  </thead>\n",
       "  <tbody>\n",
       "    <tr>\n",
       "      <th>0</th>\n",
       "      <td>0</td>\n",
       "      <td>3</td>\n",
       "      <td>1</td>\n",
       "      <td>-0.565419</td>\n",
       "      <td>-0.502163</td>\n",
       "      <td>0</td>\n",
       "      <td>2</td>\n",
       "    </tr>\n",
       "    <tr>\n",
       "      <th>1</th>\n",
       "      <td>1</td>\n",
       "      <td>1</td>\n",
       "      <td>0</td>\n",
       "      <td>0.663488</td>\n",
       "      <td>0.786404</td>\n",
       "      <td>1</td>\n",
       "      <td>2</td>\n",
       "    </tr>\n",
       "    <tr>\n",
       "      <th>2</th>\n",
       "      <td>1</td>\n",
       "      <td>3</td>\n",
       "      <td>0</td>\n",
       "      <td>-0.258192</td>\n",
       "      <td>-0.488580</td>\n",
       "      <td>0</td>\n",
       "      <td>1</td>\n",
       "    </tr>\n",
       "    <tr>\n",
       "      <th>3</th>\n",
       "      <td>1</td>\n",
       "      <td>1</td>\n",
       "      <td>0</td>\n",
       "      <td>0.433068</td>\n",
       "      <td>0.420494</td>\n",
       "      <td>0</td>\n",
       "      <td>2</td>\n",
       "    </tr>\n",
       "    <tr>\n",
       "      <th>4</th>\n",
       "      <td>0</td>\n",
       "      <td>3</td>\n",
       "      <td>1</td>\n",
       "      <td>0.433068</td>\n",
       "      <td>-0.486064</td>\n",
       "      <td>0</td>\n",
       "      <td>1</td>\n",
       "    </tr>\n",
       "    <tr>\n",
       "      <th>...</th>\n",
       "      <td>...</td>\n",
       "      <td>...</td>\n",
       "      <td>...</td>\n",
       "      <td>...</td>\n",
       "      <td>...</td>\n",
       "      <td>...</td>\n",
       "      <td>...</td>\n",
       "    </tr>\n",
       "    <tr>\n",
       "      <th>886</th>\n",
       "      <td>0</td>\n",
       "      <td>2</td>\n",
       "      <td>1</td>\n",
       "      <td>-0.181385</td>\n",
       "      <td>-0.386454</td>\n",
       "      <td>0</td>\n",
       "      <td>1</td>\n",
       "    </tr>\n",
       "    <tr>\n",
       "      <th>887</th>\n",
       "      <td>1</td>\n",
       "      <td>1</td>\n",
       "      <td>0</td>\n",
       "      <td>-0.795839</td>\n",
       "      <td>-0.044356</td>\n",
       "      <td>0</td>\n",
       "      <td>1</td>\n",
       "    </tr>\n",
       "    <tr>\n",
       "      <th>888</th>\n",
       "      <td>0</td>\n",
       "      <td>3</td>\n",
       "      <td>0</td>\n",
       "      <td>-0.104579</td>\n",
       "      <td>-0.176164</td>\n",
       "      <td>0</td>\n",
       "      <td>4</td>\n",
       "    </tr>\n",
       "    <tr>\n",
       "      <th>889</th>\n",
       "      <td>1</td>\n",
       "      <td>1</td>\n",
       "      <td>1</td>\n",
       "      <td>-0.258192</td>\n",
       "      <td>-0.044356</td>\n",
       "      <td>1</td>\n",
       "      <td>1</td>\n",
       "    </tr>\n",
       "    <tr>\n",
       "      <th>890</th>\n",
       "      <td>0</td>\n",
       "      <td>3</td>\n",
       "      <td>1</td>\n",
       "      <td>0.202648</td>\n",
       "      <td>-0.492101</td>\n",
       "      <td>2</td>\n",
       "      <td>1</td>\n",
       "    </tr>\n",
       "  </tbody>\n",
       "</table>\n",
       "<p>891 rows × 7 columns</p>\n",
       "</div>"
      ],
      "text/plain": [
       "     Survived  Pclass  Sex       Age      Fare  Embarked  FamilySize\n",
       "0           0       3    1 -0.565419 -0.502163         0           2\n",
       "1           1       1    0  0.663488  0.786404         1           2\n",
       "2           1       3    0 -0.258192 -0.488580         0           1\n",
       "3           1       1    0  0.433068  0.420494         0           2\n",
       "4           0       3    1  0.433068 -0.486064         0           1\n",
       "..        ...     ...  ...       ...       ...       ...         ...\n",
       "886         0       2    1 -0.181385 -0.386454         0           1\n",
       "887         1       1    0 -0.795839 -0.044356         0           1\n",
       "888         0       3    0 -0.104579 -0.176164         0           4\n",
       "889         1       1    1 -0.258192 -0.044356         1           1\n",
       "890         0       3    1  0.202648 -0.492101         2           1\n",
       "\n",
       "[891 rows x 7 columns]"
      ]
     },
     "execution_count": 14,
     "metadata": {},
     "output_type": "execute_result"
    }
   ],
   "source": [
    "\n",
    "titanic_df['Age'] = (titanic_df['Age'] - titanic_df['Age'].mean()) / titanic_df['Age'].std()\n",
    "titanic_df['Fare'] = (titanic_df['Fare'] - titanic_df['Fare'].mean()) / titanic_df['Fare'].std()\n",
    "titanic_df"
   ]
  },
  {
   "attachments": {},
   "cell_type": "markdown",
   "id": "4ca9f5be",
   "metadata": {
    "papermill": {
     "duration": 0.010447,
     "end_time": "2023-06-05T19:27:37.310711",
     "exception": false,
     "start_time": "2023-06-05T19:27:37.300264",
     "status": "completed"
    },
    "tags": []
   },
   "source": [
    "## **Data visualizations**"
   ]
  },
  {
   "cell_type": "code",
   "execution_count": 15,
   "id": "0afe84e1",
   "metadata": {
    "execution": {
     "iopub.execute_input": "2023-06-05T19:27:37.329060Z",
     "iopub.status.busy": "2023-06-05T19:27:37.328697Z",
     "iopub.status.idle": "2023-06-05T19:27:37.536131Z",
     "shell.execute_reply": "2023-06-05T19:27:37.535233Z"
    },
    "papermill": {
     "duration": 0.218092,
     "end_time": "2023-06-05T19:27:37.537959",
     "exception": false,
     "start_time": "2023-06-05T19:27:37.319867",
     "status": "completed"
    },
    "tags": []
   },
   "outputs": [
    {
     "data": {
      "image/png": "[encoded data removed]",
      "text/plain": [
       "<Figure size 640x480 with 1 Axes>"
      ]
     },
     "metadata": {},
     "output_type": "display_data"
    }
   ],
   "source": [
    "\n",
    "# Create a bar plot to visualize survival by gender\n",
    "sns.countplot(data=titanic_df, x='Survived', hue='Sex')\n",
    "plt.xlabel('Survived')\n",
    "plt.ylabel('Count')\n",
    "plt.title('Survival by Gender')\n",
    "\n",
    "# Customize the legend labels\n",
    "plt.legend(['Female', 'Male'])\n",
    "\n",
    "plt.show()"
   ]
  },
  {
   "cell_type": "code",
   "execution_count": 16,
   "id": "d9f2f868",
   "metadata": {
    "execution": {
     "iopub.execute_input": "2023-06-05T19:27:37.556891Z",
     "iopub.status.busy": "2023-06-05T19:27:37.555730Z",
     "iopub.status.idle": "2023-06-05T19:27:37.760359Z",
     "shell.execute_reply": "2023-06-05T19:27:37.759380Z"
    },
    "papermill": {
     "duration": 0.215832,
     "end_time": "2023-06-05T19:27:37.762196",
     "exception": false,
     "start_time": "2023-06-05T19:27:37.546364",
     "status": "completed"
    },
    "tags": []
   },
   "outputs": [
    {
     "data": {
      "image/png": "[encoded data removed]",
      "text/plain": [
       "<Figure size 640x480 with 1 Axes>"
      ]
     },
     "metadata": {},
     "output_type": "display_data"
    }
   ],
   "source": [
    "# Create a stacked bar plot to visualize survival by passenger class\n",
    "sns.countplot(data=titanic_df, x='Survived', hue='Pclass')\n",
    "plt.xlabel('Survived')\n",
    "plt.ylabel('Count')\n",
    "plt.title('Survival by Passenger Class')\n",
    "plt.show()\n"
   ]
  },
  {
   "cell_type": "code",
   "execution_count": 17,
   "id": "f7839acf",
   "metadata": {
    "execution": {
     "iopub.execute_input": "2023-06-05T19:27:37.780074Z",
     "iopub.status.busy": "2023-06-05T19:27:37.779652Z",
     "iopub.status.idle": "2023-06-05T19:27:38.113106Z",
     "shell.execute_reply": "2023-06-05T19:27:38.110771Z"
    },
    "papermill": {
     "duration": 0.345556,
     "end_time": "2023-06-05T19:27:38.115929",
     "exception": false,
     "start_time": "2023-06-05T19:27:37.770373",
     "status": "completed"
    },
    "tags": []
   },
   "outputs": [
    {
     "data": {
      "image/png": "[encoded data removed]",
      "text/plain": [
       "<Figure size 640x480 with 1 Axes>"
      ]
     },
     "metadata": {},
     "output_type": "display_data"
    }
   ],
   "source": [
    "# Create a kernel density plot to visualize the age distribution of passengers\n",
    "sns.kdeplot(data=titanic_df, x='Age', hue='Survived', fill=True)\n",
    "plt.xlabel('Age')\n",
    "plt.ylabel('Density')\n",
    "plt.title('Age Distribution')\n",
    "plt.show()\n"
   ]
  },
  {
   "cell_type": "code",
   "execution_count": 18,
   "id": "51b78dc9",
   "metadata": {
    "execution": {
     "iopub.execute_input": "2023-06-05T19:27:38.135736Z",
     "iopub.status.busy": "2023-06-05T19:27:38.135370Z",
     "iopub.status.idle": "2023-06-05T19:27:38.311057Z",
     "shell.execute_reply": "2023-06-05T19:27:38.307655Z"
    },
    "papermill": {
     "duration": 0.188132,
     "end_time": "2023-06-05T19:27:38.313427",
     "exception": false,
     "start_time": "2023-06-05T19:27:38.125295",
     "status": "completed"
    },
    "tags": []
   },
   "outputs": [
    {
     "data": {
      "image/png": "[encoded data removed]",
      "text/plain": [
       "<Figure size 640x480 with 1 Axes>"
      ]
     },
     "metadata": {},
     "output_type": "display_data"
    }
   ],
   "source": [
    "# Create a box plot to visualize the fare distribution of passengers\n",
    "sns.boxplot(data=titanic_df, x='Survived', y='Fare')\n",
    "plt.xlabel('Survived')\n",
    "plt.ylabel('Fare')\n",
    "plt.title('Fare Distribution')\n",
    "plt.show()\n"
   ]
  },
  {
   "attachments": {},
   "cell_type": "markdown",
   "id": "7db8f0db",
   "metadata": {
    "papermill": {
     "duration": 0.008742,
     "end_time": "2023-06-05T19:27:38.331814",
     "exception": false,
     "start_time": "2023-06-05T19:27:38.323072",
     "status": "completed"
    },
    "tags": []
   },
   "source": [
    "This plot will display the number of passengers embarked from each port (Cherbourg, Queenstown, Southampton) and differentiate the survivors from non-survivors."
   ]
  },
  {
   "cell_type": "code",
   "execution_count": 19,
   "id": "7b4895cb",
   "metadata": {
    "execution": {
     "iopub.execute_input": "2023-06-05T19:27:38.351031Z",
     "iopub.status.busy": "2023-06-05T19:27:38.350683Z",
     "iopub.status.idle": "2023-06-05T19:27:38.562563Z",
     "shell.execute_reply": "2023-06-05T19:27:38.560910Z"
    },
    "papermill": {
     "duration": 0.224781,
     "end_time": "2023-06-05T19:27:38.565486",
     "exception": false,
     "start_time": "2023-06-05T19:27:38.340705",
     "status": "completed"
    },
    "tags": []
   },
   "outputs": [
    {
     "data": {
      "image/png": "[encoded data removed]",
      "text/plain": [
       "<Figure size 640x480 with 1 Axes>"
      ]
     },
     "metadata": {},
     "output_type": "display_data"
    }
   ],
   "source": [
    "# Create a bar plot to compare the number of passengers embarked from each port\n",
    "sns.countplot(data=titanic_df, x='Embarked', hue='Survived')\n",
    "plt.xlabel('Embarked')\n",
    "plt.ylabel('Count')\n",
    "plt.title('Passengers by Embarkation Port')\n",
    "plt.show()\n"
   ]
  },
  {
   "cell_type": "code",
   "execution_count": 20,
   "id": "301f349b",
   "metadata": {
    "execution": {
     "iopub.execute_input": "2023-06-05T19:27:38.586132Z",
     "iopub.status.busy": "2023-06-05T19:27:38.585736Z",
     "iopub.status.idle": "2023-06-05T19:27:38.965984Z",
     "shell.execute_reply": "2023-06-05T19:27:38.964475Z"
    },
    "papermill": {
     "duration": 0.393625,
     "end_time": "2023-06-05T19:27:38.968898",
     "exception": false,
     "start_time": "2023-06-05T19:27:38.575273",
     "status": "completed"
    },
    "tags": []
   },
   "outputs": [
    {
     "data": {
      "image/png": "[encoded data removed]",
      "text/plain": [
       "<Figure size 1000x800 with 2 Axes>"
      ]
     },
     "metadata": {},
     "output_type": "display_data"
    }
   ],
   "source": [
    "# Compute the correlation matrix\n",
    "corr = titanic_df.corr()\n",
    "\n",
    "# Create a heatmap\n",
    "plt.figure(figsize=(10, 8))\n",
    "sns.heatmap(corr, annot=True, cmap='coolwarm', linewidths=0.5)\n",
    "plt.title('Correlation Heatmap')\n",
    "plt.show()"
   ]
  },
  {
   "cell_type": "code",
   "execution_count": 21,
   "id": "f9e662af",
   "metadata": {
    "execution": {
     "iopub.execute_input": "2023-06-05T19:27:38.992302Z",
     "iopub.status.busy": "2023-06-05T19:27:38.991281Z",
     "iopub.status.idle": "2023-06-05T19:27:39.216994Z",
     "shell.execute_reply": "2023-06-05T19:27:39.216077Z"
    },
    "papermill": {
     "duration": 0.239516,
     "end_time": "2023-06-05T19:27:39.218894",
     "exception": false,
     "start_time": "2023-06-05T19:27:38.979378",
     "status": "completed"
    },
    "tags": []
   },
   "outputs": [
    {
     "data": {
      "image/png": "[encoded data removed]",
      "text/plain": [
       "<Figure size 640x480 with 1 Axes>"
      ]
     },
     "metadata": {},
     "output_type": "display_data"
    }
   ],
   "source": [
    "# Create age bins\n",
    "age_bins = [0, 18, 30, 50, 80]\n",
    "age_labels = ['0-18', '19-30', '31-50', '51+']\n",
    "titanic_df['AgeGroup'] = pd.cut(titanic_df['Age'], bins=age_bins, labels=age_labels)\n",
    "\n",
    "# Create a stacked bar plot\n",
    "sns.countplot(data=titanic_df, x='AgeGroup', hue='Pclass', hue_order=[1, 2, 3], palette='pastel')\n",
    "plt.xlabel('Age Group')\n",
    "plt.ylabel('Count')\n",
    "plt.title('Survival by Age and Passenger Class')\n",
    "plt.legend(title='Passenger Class', loc='upper right')\n",
    "plt.show()\n"
   ]
  },
  {
   "cell_type": "code",
   "execution_count": 22,
   "id": "5d5cbda8",
   "metadata": {
    "execution": {
     "iopub.execute_input": "2023-06-05T19:27:39.240691Z",
     "iopub.status.busy": "2023-06-05T19:27:39.240386Z",
     "iopub.status.idle": "2023-06-05T19:27:39.485096Z",
     "shell.execute_reply": "2023-06-05T19:27:39.483793Z"
    },
    "papermill": {
     "duration": 0.258223,
     "end_time": "2023-06-05T19:27:39.487271",
     "exception": false,
     "start_time": "2023-06-05T19:27:39.229048",
     "status": "completed"
    },
    "tags": []
   },
   "outputs": [
    {
     "data": {
      "image/png": "[encoded data removed]",
      "text/plain": [
       "<Figure size 640x480 with 1 Axes>"
      ]
     },
     "metadata": {},
     "output_type": "display_data"
    }
   ],
   "source": [
    "# Create a violin plot\n",
    "sns.violinplot(data=titanic_df, x='Embarked', y='Fare', hue='Survived', split=True, inner='quartile')\n",
    "plt.xlabel('Embarkation Port')\n",
    "plt.ylabel('Fare')\n",
    "plt.title('Survival by Embarkation Port and Fare')\n",
    "plt.legend(title='Survived', loc='upper right')\n",
    "plt.show()\n"
   ]
  },
  {
   "cell_type": "code",
   "execution_count": 23,
   "id": "82472b26",
   "metadata": {
    "execution": {
     "iopub.execute_input": "2023-06-05T19:27:39.512982Z",
     "iopub.status.busy": "2023-06-05T19:27:39.512227Z",
     "iopub.status.idle": "2023-06-05T19:27:39.725840Z",
     "shell.execute_reply": "2023-06-05T19:27:39.724635Z"
    },
    "papermill": {
     "duration": 0.229385,
     "end_time": "2023-06-05T19:27:39.728482",
     "exception": false,
     "start_time": "2023-06-05T19:27:39.499097",
     "status": "completed"
    },
    "tags": []
   },
   "outputs": [
    {
     "name": "stdout",
     "output_type": "stream",
     "text": [
      "Accuracy: 0.8212290502793296\n"
     ]
    }
   ],
   "source": [
    "# Split the dataset into features (X) and target (y)\n",
    "\n",
    "\n",
    "X = titanic_df.drop('Survived', axis=1)\n",
    "\n",
    "# Perform one-hot encoding on the 'AgeGroup' column\n",
    "X = pd.get_dummies(X, columns=['AgeGroup'], drop_first=True)\n",
    "\n",
    "y = titanic_df['Survived']\n",
    "\n",
    "# Split the data into training and testing sets\n",
    "X_train, X_test, y_train, y_test = train_test_split(X, y, test_size=0.2, random_state=42)\n",
    "\n",
    "# Create a Random Forest classifier\n",
    "random_forest = RandomForestClassifier(n_estimators=100, random_state=42)\n",
    "\n",
    "# Train the model\n",
    "random_forest.fit(X_train, y_train)\n",
    "\n",
    "# Make predictions on the test set\n",
    "y_pred = random_forest.predict(X_test)\n",
    "\n",
    "# Evaluate the model\n",
    "accuracy = accuracy_score(y_test, y_pred)\n",
    "print(\"Accuracy:\", accuracy)\n"
   ]
  },
  {
   "cell_type": "code",
   "execution_count": null,
   "id": "c95f92b5",
   "metadata": {
    "papermill": {
     "duration": 0.011089,
     "end_time": "2023-06-05T19:27:39.751154",
     "exception": false,
     "start_time": "2023-06-05T19:27:39.740065",
     "status": "completed"
    },
    "tags": []
   },
   "outputs": [],
   "source": []
  }
 ],
 "metadata": {
  "kernelspec": {
   "display_name": "Python 3",
   "language": "python",
   "name": "python3"
  },
  "language_info": {
   "codemirror_mode": {
    "name": "ipython",
    "version": 3
   },
   "file_extension": ".py",
   "mimetype": "text/x-python",
   "name": "python",
   "nbconvert_exporter": "python",
   "pygments_lexer": "ipython3",
   "version": "3.10.10"
  },
  "papermill": {
   "default_parameters": {},
   "duration": 16.375778,
   "end_time": "2023-06-05T19:27:40.785238",
   "environment_variables": {},
   "exception": null,
   "input_path": "__notebook__.ipynb",
   "output_path": "__notebook__.ipynb",
   "parameters": {},
   "start_time": "2023-06-05T19:27:24.409460",
   "version": "2.4.0"
  }
 },
 "nbformat": 4,
 "nbformat_minor": 5
}
